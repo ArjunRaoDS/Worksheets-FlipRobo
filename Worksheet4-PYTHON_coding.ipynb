{
 "cells": [
  {
   "cell_type": "markdown",
   "metadata": {},
   "source": [
    "# 14. Write a python program to solve a quadratic equation of the form 𝑎𝑥2+𝑏𝑥+𝑐=0. Where a, b and c are to be taken by user input. Handle the erroneous input, such as ‘a’ should not be equal to 0. "
   ]
  },
  {
   "cell_type": "code",
   "execution_count": 12,
   "metadata": {},
   "outputs": [
    {
     "name": "stdout",
     "output_type": "stream",
     "text": [
      "Insert coefficient a: 1\n",
      "Insert coefficient b: 7\n",
      "Insert coefficient c: 12\n",
      "The function has two distinct real roots:  -3.0  and  -4.0\n"
     ]
    }
   ],
   "source": [
    "import math\n",
    "\n",
    "# Inserting values of a, b and c from user\n",
    "\n",
    "a = float(input(\"Insert coefficient a: \"))\n",
    "b = float(input(\"Insert coefficient b: \"))\n",
    "c = float(input(\"Insert coefficient c: \"))\n",
    "if a==0:\n",
    "    print(\"Invalid: a shouldn't be 0\")\n",
    "\n",
    "discriminant = b**2 - 4 * a * c\n",
    "\n",
    "if discriminant >= 0:\n",
    "    x1=(-b+math.sqrt(discriminant))/2*a\n",
    "    x2=(-b-math.sqrt(discriminant))/2*a\n",
    "else:\n",
    "    x1= complex((-b/(2*a)),math.sqrt(-discriminant)/(2*a))\n",
    "    x2= complex((-b/(2*a)),-math.sqrt(-discriminant)/(2*a))\n",
    "\n",
    "if discriminant > 0:\n",
    "    print(\"The function has two distinct real roots: \", x1, \" and \", x2)\n",
    "elif discriminant == 0:\n",
    "    print(\"The function has one double root: \", x1)\n",
    "else:\n",
    "    print(\"The function has two complex (conjugate) roots: \", x1, \" and \", x2)"
   ]
  },
  {
   "cell_type": "markdown",
   "metadata": {},
   "source": [
    "# 15. Write a python program to find the sum of first ‘n’ natural numbers without using any loop. Ask user to input the value of ‘n’. "
   ]
  },
  {
   "cell_type": "code",
   "execution_count": 17,
   "metadata": {},
   "outputs": [
    {
     "name": "stdout",
     "output_type": "stream",
     "text": [
      "Please enter the value of 'n'6\n",
      "Sum of fthe first  6 natural numbers is:  21.0\n"
     ]
    }
   ],
   "source": [
    "#Inserting values from user\n",
    "n = int(input(\"Please enter the value of 'n'\"))\n",
    "\n",
    "sum = n * (n+1) / 2\n",
    "\n",
    "print(\"Sum of fthe first \", n, \"natural numbers is: \", sum )"
   ]
  },
  {
   "cell_type": "code",
   "execution_count": 22,
   "metadata": {},
   "outputs": [
    {
     "data": {
      "text/plain": [
       "65536"
      ]
     },
     "execution_count": 22,
     "metadata": {},
     "output_type": "execute_result"
    }
   ],
   "source": [
    "x=(2**4)**4    \n",
    "x"
   ]
  },
  {
   "cell_type": "code",
   "execution_count": null,
   "metadata": {},
   "outputs": [],
   "source": []
  }
 ],
 "metadata": {
  "kernelspec": {
   "display_name": "Python 3",
   "language": "python",
   "name": "python3"
  },
  "language_info": {
   "codemirror_mode": {
    "name": "ipython",
    "version": 3
   },
   "file_extension": ".py",
   "mimetype": "text/x-python",
   "name": "python",
   "nbconvert_exporter": "python",
   "pygments_lexer": "ipython3",
   "version": "3.6.10"
  }
 },
 "nbformat": 4,
 "nbformat_minor": 4
}
